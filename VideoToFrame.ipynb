{
 "cells": [
  {
   "cell_type": "code",
   "execution_count": 31,
   "metadata": {},
   "outputs": [],
   "source": [
    "import cv2"
   ]
  },
  {
   "cell_type": "code",
   "execution_count": 32,
   "metadata": {},
   "outputs": [],
   "source": [
    "count = 0\n",
    "frcnt = 0\n",
    "h, w = 1080, 1920\n",
    "PATH = \"\"\n",
    "cap = cv2.VideoCapture(\"C:/Users/sprit/Documents/SIDDHANT PATHAK/Minor/videos/Yellow_OrdinaryCar/6.mp4\")"
   ]
  },
  {
   "cell_type": "code",
   "execution_count": 33,
   "metadata": {},
   "outputs": [],
   "source": [
    "success,image = cap.read()"
   ]
  },
  {
   "cell_type": "code",
   "execution_count": 34,
   "metadata": {},
   "outputs": [],
   "source": [
    "count = 0; \n",
    "while success:\n",
    "    success,image = cap.read()\n",
    "    if(count % 3 == 0):\n",
    "        cv2.imwrite(\"frame%d.jpg\" % count, image) # save frame as JPEG file\n",
    "    if cv2.waitKey(10) == 27:                     # exit if Escape is hit\n",
    "        break\n",
    "    count += 1"
   ]
  },
  {
   "cell_type": "code",
   "execution_count": 3,
   "metadata": {},
   "outputs": [
    {
     "name": "stdout",
     "output_type": "stream",
     "text": [
      "1920.0 1080.0\n"
     ]
    }
   ],
   "source": [
    "if cap.isOpened(): \n",
    "    width = cap.get(cv2.CAP_PROP_FRAME_WIDTH)   # float\n",
    "    height = cap.get(cv2.CAP_PROP_FRAME_HEIGHT)\n",
    "\n",
    "print(width, height)    "
   ]
  }
 ],
 "metadata": {
  "kernelspec": {
   "display_name": "Python [conda env:Anaconda3]",
   "language": "python",
   "name": "conda-env-Anaconda3-py"
  },
  "language_info": {
   "codemirror_mode": {
    "name": "ipython",
    "version": 3
   },
   "file_extension": ".py",
   "mimetype": "text/x-python",
   "name": "python",
   "nbconvert_exporter": "python",
   "pygments_lexer": "ipython3",
   "version": "3.6.4"
  }
 },
 "nbformat": 4,
 "nbformat_minor": 2
}
