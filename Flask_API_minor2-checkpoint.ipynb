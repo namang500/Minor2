{
 "cells": [
  {
   "cell_type": "code",
   "execution_count": 11,
   "metadata": {},
   "outputs": [
    {
     "name": "stderr",
     "output_type": "stream",
     "text": [
      " * Restarting with stat\n"
     ]
    },
    {
     "ename": "SystemExit",
     "evalue": "1",
     "output_type": "error",
     "traceback": [
      "An exception has occurred, use %tb to see the full traceback.\n",
      "\u001b[1;31mSystemExit\u001b[0m\u001b[1;31m:\u001b[0m 1\n"
     ]
    },
    {
     "name": "stderr",
     "output_type": "stream",
     "text": [
      "c:\\users\\india\\anaconda3\\envs\\tensorflow\\lib\\site-packages\\IPython\\core\\interactiveshell.py:2918: UserWarning: To exit: use 'exit', 'quit', or Ctrl-D.\n",
      "  warn(\"To exit: use 'exit', 'quit', or Ctrl-D.\", stacklevel=1)\n"
     ]
    }
   ],
   "source": [
    "import os\n",
    "import urllib\n",
    "import base64\n",
    "from flask import Flask,request\n",
    "from flask import Flask,render_template, redirect,url_for\n",
    "import glob\n",
    "\n",
    "\n",
    "app=Flask(__name__)\n",
    "\n",
    "name_of_file=\"image\"\n",
    "ctr=0\n",
    "\n",
    "path_to_images= r'C:\\Users\\india\\minor2\\recieved_images'\n",
    "\n",
    "\n",
    "known_faces=[]\n",
    "known_face_encodings=[]\n",
    "\n",
    "@app.route('/<bitmapString>')\n",
    "\n",
    "def bitmapStr(bitmapString):\n",
    "    bitmapString=bitmapString.replace(\" \",\"\")\n",
    "    firstStr=bitmapString.replace('@','/')\n",
    "    secondStr=firstStr.replace('&','+')\n",
    "    missing_padding=len(bitmapString)%4\n",
    "\n",
    "    file1=open(complete_name,\"wb\")\n",
    "    file1.write(image_64_decode)\n",
    "    file1.close()\n",
    "\n",
    "    return 'Strnmn,m'\n",
    "\n",
    "@app.route('/greet',methods=['GET','POST'])\n",
    "\n",
    "\n",
    "def greet():\n",
    "    a=request.form['greet']\n",
    "    return a\n",
    "\n",
    "@app.route('/',methods=['GET','POST'])\n",
    "\n",
    "def index():\n",
    "    imageFile = request.form[\"image\"]\n",
    "    counter = request.form[\"count\"]\n",
    "    personName = request.form[\"personName\"]\n",
    "    image_64_decode=base64.b64decode(imageFile)\n",
    "    \n",
    "    filepath = os.path.join(path_to_images,\"a\"+\"_\"+\"_\"+ name_of_file+\".PNG\")\n",
    "    \n",
    "    if not os.path.exists(path_to_images):\n",
    "            os.makedirs(path_to_images)   \n",
    "    file1 = open(filepath, \"wb\")\n",
    "    \n",
    "\n",
    "    file1.write(image_64_decode)\n",
    "\n",
    "\n",
    "    file1.close()\n",
    "#    known_faces=glob.glob(\"Flask_images\\\\*.PNG\")\n",
    "    \n",
    "\n",
    "#     print(\"known faces\")\n",
    "#     face=predict_script.detect_faces(known_faces)\n",
    "#     if face is None:\n",
    "#             label = \"Face cannot be Extracted\"\n",
    "#     else:\n",
    "#             label=\"\"\n",
    "                #print(label)        \n",
    "        \n",
    "    \n",
    "    \n",
    "    return \"\"\n",
    "\n",
    "@app.route('/bacon',methods=['GET','POST'])\n",
    "def bacon():\n",
    "    if request.method=='POST':\n",
    "        return 'Method used is POST'\n",
    "    else:\n",
    "        return 'Method used is GET'\n",
    "\n",
    "if(__name__==\"__main__\"):\n",
    "    app.run(debug=True,host='100.112.65.194',port=5001)\n",
    "\n",
    "@app.route('/<user>')\n",
    "def index(user=None):\n",
    "    return render_template(\"user.html\",user=user)\n",
    "\n",
    "UPLOAD_FOLDER = 'D:\\test'\n",
    "ALLOWED_EXTENSIONS = set(['txt', 'pdf', 'png', 'jpg', 'jpeg', 'gif'])\n",
    "\n",
    "\n",
    "\n"
   ]
  }
 ],
 "metadata": {
  "kernelspec": {
   "display_name": "Python 3",
   "language": "python",
   "name": "python3"
  },
  "language_info": {
   "codemirror_mode": {
    "name": "ipython",
    "version": 3
   },
   "file_extension": ".py",
   "mimetype": "text/x-python",
   "name": "python",
   "nbconvert_exporter": "python",
   "pygments_lexer": "ipython3",
   "version": "3.6.3"
  }
 },
 "nbformat": 4,
 "nbformat_minor": 2
}
